{
 "cells": [
  {
   "cell_type": "markdown",
   "id": "continued-defensive",
   "metadata": {},
   "source": [
    "#把2C基因选出来\n",
    "import pandas as pd\n",
    "df=pd.read_csv('ICM_vs_E2C.csv')\n",
    "newdf=df.loc[(df['pvalue']<0.05) & (df['log2FoldChange']>1)]\n",
    "newdf.to_csv('2Cgene.csv')"
   ]
  },
  {
   "cell_type": "code",
   "execution_count": 116,
   "id": "amino-brick",
   "metadata": {},
   "outputs": [],
   "source": [
    "import csv\n",
    "\n",
    "with open('gencode.vM17.annotation.gff3', 'r') as f:\n",
    "    lines1 = f.readlines()\n",
    "with open('high_confidence_enhancer_set.gff3', 'r') as f2:\n",
    "    lines2 = f2.readlines()\n",
    "f3 = open('2Cgene.csv','r')\n",
    "reader = csv.reader(f3) \n",
    "f4 = open('2Cgene_within1Mbp_enh.csv','w',newline='')\n",
    "writer = csv.writer(f4)\n"
   ]
  },
  {
   "cell_type": "code",
   "execution_count": 117,
   "id": "small-indian",
   "metadata": {},
   "outputs": [],
   "source": [
    "#从gencode.vM17.annotation.gff3 中找到genename\n",
    "def grep_gene(gene_name,filelines):\n",
    "    for k1 in filelines:\n",
    "        if '#' in k1 : continue\n",
    "        k1s=k1.split()\n",
    "        if k1s[2] == 'gene':\n",
    "            c1=k1s[8].split(';')\n",
    "            c2=c1[3].split('=')\n",
    "            c2=c2[1]\n",
    "            if c2 == gene_name:\n",
    "                return k1\n",
    "            else:continue\n",
    "        else:continue  \n"
   ]
  },
  {
   "cell_type": "code",
   "execution_count": 118,
   "id": "younger-distribution",
   "metadata": {},
   "outputs": [],
   "source": [
    "#给定基因位置，找落在其上下游10000000bp的enhancer\n",
    "def find_enhancer(chrg,geneloc1,geneloc2,filelines):\n",
    "    enhancerlist=[]\n",
    "    for enh in filelines:\n",
    "        enhs = enh.split()\n",
    "        if enhs[0]==chrg and enhs[2]=='gene' and int(enhs[3])>=int(geneloc1)-1000000 and int(enhs[4])<=int(geneloc2)+1000000 :\n",
    "            enhancerlist.append(enh)\n",
    "    return enhancerlist"
   ]
  },
  {
   "cell_type": "code",
   "execution_count": 119,
   "id": "strategic-candidate",
   "metadata": {},
   "outputs": [
    {
     "data": {
      "text/plain": [
       "113"
      ]
     },
     "execution_count": 119,
     "metadata": {},
     "output_type": "execute_result"
    }
   ],
   "source": [
    "writer.writerow(['gene_name','chr','GeneId','geneloc1','geneloc2','EnhancerId','enhloc1','enhloc2','r','glog2foldchange','enh_2C/ICM','gene_TPM','enh_TPM'])"
   ]
  },
  {
   "cell_type": "code",
   "execution_count": 120,
   "id": "continuous-leader",
   "metadata": {},
   "outputs": [],
   "source": [
    "import numpy as np\n",
    "with open('Enhancer_TPM_Corrected.txt', 'r') as f5:\n",
    "    linese = f5.readlines()\n",
    "with open('gene_TPM_Corrected.txt', 'r') as f6:\n",
    "    linesg = f6.readlines()"
   ]
  },
  {
   "cell_type": "code",
   "execution_count": 121,
   "id": "changed-bahamas",
   "metadata": {},
   "outputs": [],
   "source": [
    "#抓取给定enhancer和gene的TPM，计算correlation,enhancer的foldchange,进行一定的筛选，返回\n",
    "def TPM_r(enhid,geneid,linese,linesg):\n",
    "    find_e=0\n",
    "    fine_g=0\n",
    "    for tpm_ei in linese:\n",
    "        tpm_eis=tpm_ei.split()\n",
    "        if tpm_eis[0] == enhid :\n",
    "            find_e=1\n",
    "            enhtpm=(float(tpm_eis[1]), float(tpm_eis[2]), float(tpm_eis[3]), float(tpm_eis[4]), float(tpm_eis[5]), float(tpm_eis[6]), float(tpm_eis[7]),float(tpm_eis[8]), float(tpm_eis[9]))\n",
    "            break\n",
    "    for tpm_gi in linesg:\n",
    "        tpm_gis=tpm_gi.split()\n",
    "        if tpm_gis[0] == geneid :\n",
    "            find_g=1\n",
    "            genetpm=(float(tpm_gis[1]), float(tpm_gis[2]), float(tpm_gis[3]), float(tpm_gis[4]), float(tpm_gis[5]), float(tpm_gis[6]), float(tpm_gis[7]),float(tpm_gis[8]), float(tpm_gis[9]))\n",
    "            break\n",
    "    if find_e == 0 | fine_g == 0:\n",
    "        return -1\n",
    "    data=pd.DataFrame({'e':enhtpm,'g':genetpm})\n",
    "    datar=data.corr()\n",
    "    if(np.isnan(datar.iloc[0,1])) :\n",
    "        return -1\n",
    "    else:\n",
    "        if(float(tpm_eis[2]) == 0):fold=0\n",
    "        elif float(tpm_eis[6]) == 0 :fold = 10000\n",
    "        else: fold =float(tpm_eis[2])/float(tpm_eis[6])\n",
    "    if fold < 1.5 :return -1\n",
    "    else:return [datar.iloc[0,1],fold,genetpm,enhtpm]       "
   ]
  },
  {
   "cell_type": "code",
   "execution_count": 107,
   "id": "powerful-grant",
   "metadata": {},
   "outputs": [],
   "source": [
    "flag=0\n",
    "for genei in reader:\n",
    "    if genei[2] == 'Cdc26':\n",
    "        break"
   ]
  },
  {
   "cell_type": "code",
   "execution_count": 122,
   "id": "smoking-vault",
   "metadata": {},
   "outputs": [],
   "source": [
    "#对于给定基因csv中的每个基因，找出它的enhancer，算出correlation and foldchange，筛选\n",
    "for genei in reader:\n",
    "    if genei[2] == 'gene_name': continue\n",
    "    c = grep_gene(genei[2],lines1)\n",
    "    if c == None: continue\n",
    "    cs=c.split()\n",
    "    chrg=cs[0]\n",
    "    geneloc1=cs[3]\n",
    "    geneloc2=cs[4]\n",
    "    geneid = cs[8].split(';')\n",
    "    geneid = geneid[0].split('=')\n",
    "    geneid = geneid[1]\n",
    "    elist = find_enhancer(chrg,geneloc1,geneloc2,lines2)\n",
    "    for enhi in elist:\n",
    "        enhis=enhi.split()\n",
    "        enhid=enhis[8].split(';')\n",
    "        enhid=enhid[0].split('=')\n",
    "        enhid=enhid[1]\n",
    "        r = TPM_r(enhid,geneid,linese,linesg)\n",
    "        if (r == -1) or (abs(r[0])<0.6) :continue\n",
    "        else:\n",
    "            writer.writerow([genei[2],chrg,geneid,geneloc1,geneloc2,enhid,enhis[3],enhis[4],r[0],genei[4],r[1],r[2],r[3]])\n",
    "        "
   ]
  },
  {
   "cell_type": "code",
   "execution_count": 103,
   "id": "democratic-geography",
   "metadata": {},
   "outputs": [
    {
     "name": "stdout",
     "output_type": "stream",
     "text": [
      "['13087', 'ENSMUSG00000024382.13', 'Ercc3', '582.0631831', '-1.00132544', '0.510852386', '-1.9601072', '0.049983262', '0.086978055', '376.255387', '351.06767', '708.3804323', '943.9940208', '530.6184054']\n"
     ]
    }
   ],
   "source": [
    "print(genei)"
   ]
  },
  {
   "cell_type": "code",
   "execution_count": 70,
   "id": "driving-diabetes",
   "metadata": {},
   "outputs": [
    {
     "name": "stdout",
     "output_type": "stream",
     "text": [
      "None\n"
     ]
    }
   ],
   "source": [
    "print(c)"
   ]
  },
  {
   "cell_type": "code",
   "execution_count": null,
   "id": "designing-retreat",
   "metadata": {},
   "outputs": [],
   "source": []
  }
 ],
 "metadata": {
  "kernelspec": {
   "display_name": "Python 3",
   "language": "python",
   "name": "python3"
  },
  "language_info": {
   "codemirror_mode": {
    "name": "ipython",
    "version": 3
   },
   "file_extension": ".py",
   "mimetype": "text/x-python",
   "name": "python",
   "nbconvert_exporter": "python",
   "pygments_lexer": "ipython3",
   "version": "3.8.5"
  }
 },
 "nbformat": 4,
 "nbformat_minor": 5
}
